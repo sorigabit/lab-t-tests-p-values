{
 "cells": [
  {
   "cell_type": "code",
   "execution_count": 144,
   "id": "afc70e92",
   "metadata": {},
   "outputs": [],
   "source": [
    "import pandas as pd\n",
    "import numpy as np\n",
    "import scipy.stats as st\n",
    "import matplotlib.pyplot as plt\n",
    "import seaborn as sns\n",
    "import scipy.stats\n",
    "from scipy.stats import ttest_1samp\n"
   ]
  },
  {
   "cell_type": "code",
   "execution_count": 145,
   "id": "d9e577e6",
   "metadata": {},
   "outputs": [
    {
     "data": {
      "text/html": [
       "<div>\n",
       "<style scoped>\n",
       "    .dataframe tbody tr th:only-of-type {\n",
       "        vertical-align: middle;\n",
       "    }\n",
       "\n",
       "    .dataframe tbody tr th {\n",
       "        vertical-align: top;\n",
       "    }\n",
       "\n",
       "    .dataframe thead th {\n",
       "        text-align: right;\n",
       "    }\n",
       "</style>\n",
       "<table border=\"1\" class=\"dataframe\">\n",
       "  <thead>\n",
       "    <tr style=\"text-align: right;\">\n",
       "      <th></th>\n",
       "      <th>new_machine</th>\n",
       "      <th>old_machine</th>\n",
       "    </tr>\n",
       "  </thead>\n",
       "  <tbody>\n",
       "    <tr>\n",
       "      <th>0</th>\n",
       "      <td>42.1</td>\n",
       "      <td>42.7</td>\n",
       "    </tr>\n",
       "    <tr>\n",
       "      <th>1</th>\n",
       "      <td>41.0</td>\n",
       "      <td>43.6</td>\n",
       "    </tr>\n",
       "    <tr>\n",
       "      <th>2</th>\n",
       "      <td>41.3</td>\n",
       "      <td>43.8</td>\n",
       "    </tr>\n",
       "    <tr>\n",
       "      <th>3</th>\n",
       "      <td>41.8</td>\n",
       "      <td>43.3</td>\n",
       "    </tr>\n",
       "    <tr>\n",
       "      <th>4</th>\n",
       "      <td>42.4</td>\n",
       "      <td>42.5</td>\n",
       "    </tr>\n",
       "    <tr>\n",
       "      <th>5</th>\n",
       "      <td>42.8</td>\n",
       "      <td>43.5</td>\n",
       "    </tr>\n",
       "    <tr>\n",
       "      <th>6</th>\n",
       "      <td>43.2</td>\n",
       "      <td>43.1</td>\n",
       "    </tr>\n",
       "    <tr>\n",
       "      <th>7</th>\n",
       "      <td>42.3</td>\n",
       "      <td>41.7</td>\n",
       "    </tr>\n",
       "    <tr>\n",
       "      <th>8</th>\n",
       "      <td>41.8</td>\n",
       "      <td>44.0</td>\n",
       "    </tr>\n",
       "    <tr>\n",
       "      <th>9</th>\n",
       "      <td>42.7</td>\n",
       "      <td>44.1</td>\n",
       "    </tr>\n",
       "  </tbody>\n",
       "</table>\n",
       "</div>"
      ],
      "text/plain": [
       "   new_machine  old_machine\n",
       "0         42.1         42.7\n",
       "1         41.0         43.6\n",
       "2         41.3         43.8\n",
       "3         41.8         43.3\n",
       "4         42.4         42.5\n",
       "5         42.8         43.5\n",
       "6         43.2         43.1\n",
       "7         42.3         41.7\n",
       "8         41.8         44.0\n",
       "9         42.7         44.1"
      ]
     },
     "execution_count": 145,
     "metadata": {},
     "output_type": "execute_result"
    }
   ],
   "source": [
    "data = pd.read_csv(r'C:\\Users\\sorig\\Desktop\\machines23.csv')\n",
    "data"
   ]
  },
  {
   "cell_type": "code",
   "execution_count": 146,
   "id": "3586140c",
   "metadata": {},
   "outputs": [],
   "source": [
    "# h0-old machine is better, mean new machine >= mean old machine"
   ]
  },
  {
   "cell_type": "code",
   "execution_count": 147,
   "id": "9ff107a2",
   "metadata": {},
   "outputs": [
    {
     "data": {
      "text/plain": [
       "43.230000000000004"
      ]
     },
     "execution_count": 147,
     "metadata": {},
     "output_type": "execute_result"
    }
   ],
   "source": [
    "data['old_machine'].mean()"
   ]
  },
  {
   "cell_type": "code",
   "execution_count": 148,
   "id": "9e6f0765",
   "metadata": {},
   "outputs": [
    {
     "data": {
      "text/plain": [
       "[42.1, 41.0, 41.3, 41.8, 42.4, 42.8, 43.2, 42.3, 41.8, 42.7]"
      ]
     },
     "execution_count": 148,
     "metadata": {},
     "output_type": "execute_result"
    }
   ],
   "source": [
    "new_machine_list = list(data['new_machine'])\n",
    "new_machine_list"
   ]
  },
  {
   "cell_type": "code",
   "execution_count": 149,
   "id": "77d0d1bd",
   "metadata": {},
   "outputs": [
    {
     "name": "stdout",
     "output_type": "stream",
     "text": [
      "pvalue for the one-tailed test is:  0.0003483188038379669 stat values is:  -5.043318535038297\n"
     ]
    }
   ],
   "source": [
    "stat, pval = ttest_1samp(new_machine_list, 43.23)\n",
    "print('pvalue for the one-tailed test is: ', pval/2 , 'stat values is: ', stat)"
   ]
  },
  {
   "cell_type": "code",
   "execution_count": 150,
   "id": "80bf619d",
   "metadata": {},
   "outputs": [],
   "source": [
    "# p low, H0 must go. We reject the ideea  that new machine is worst than the old one. We cannot say anything about it being better"
   ]
  },
  {
   "cell_type": "code",
   "execution_count": null,
   "id": "daf5c9fb",
   "metadata": {},
   "outputs": [],
   "source": []
  },
  {
   "cell_type": "code",
   "execution_count": 151,
   "id": "b4d55898",
   "metadata": {},
   "outputs": [],
   "source": [
    "# part 1. 2"
   ]
  },
  {
   "cell_type": "code",
   "execution_count": 152,
   "id": "08db9990",
   "metadata": {},
   "outputs": [
    {
     "data": {
      "text/html": [
       "<div>\n",
       "<style scoped>\n",
       "    .dataframe tbody tr th:only-of-type {\n",
       "        vertical-align: middle;\n",
       "    }\n",
       "\n",
       "    .dataframe tbody tr th {\n",
       "        vertical-align: top;\n",
       "    }\n",
       "\n",
       "    .dataframe thead th {\n",
       "        text-align: right;\n",
       "    }\n",
       "</style>\n",
       "<table border=\"1\" class=\"dataframe\">\n",
       "  <thead>\n",
       "    <tr style=\"text-align: right;\">\n",
       "      <th></th>\n",
       "      <th>#</th>\n",
       "      <th>Name</th>\n",
       "      <th>Type 1</th>\n",
       "      <th>Type 2</th>\n",
       "      <th>Total</th>\n",
       "      <th>HP</th>\n",
       "      <th>Attack</th>\n",
       "      <th>Defense</th>\n",
       "      <th>Sp. Atk</th>\n",
       "      <th>Sp. Def</th>\n",
       "      <th>Speed</th>\n",
       "      <th>Generation</th>\n",
       "      <th>Legendary</th>\n",
       "    </tr>\n",
       "  </thead>\n",
       "  <tbody>\n",
       "    <tr>\n",
       "      <th>0</th>\n",
       "      <td>1</td>\n",
       "      <td>Bulbasaur</td>\n",
       "      <td>Grass</td>\n",
       "      <td>Poison</td>\n",
       "      <td>318</td>\n",
       "      <td>45</td>\n",
       "      <td>49</td>\n",
       "      <td>49</td>\n",
       "      <td>65</td>\n",
       "      <td>65</td>\n",
       "      <td>45</td>\n",
       "      <td>1</td>\n",
       "      <td>False</td>\n",
       "    </tr>\n",
       "    <tr>\n",
       "      <th>1</th>\n",
       "      <td>2</td>\n",
       "      <td>Ivysaur</td>\n",
       "      <td>Grass</td>\n",
       "      <td>Poison</td>\n",
       "      <td>405</td>\n",
       "      <td>60</td>\n",
       "      <td>62</td>\n",
       "      <td>63</td>\n",
       "      <td>80</td>\n",
       "      <td>80</td>\n",
       "      <td>60</td>\n",
       "      <td>1</td>\n",
       "      <td>False</td>\n",
       "    </tr>\n",
       "    <tr>\n",
       "      <th>2</th>\n",
       "      <td>3</td>\n",
       "      <td>Venusaur</td>\n",
       "      <td>Grass</td>\n",
       "      <td>Poison</td>\n",
       "      <td>525</td>\n",
       "      <td>80</td>\n",
       "      <td>82</td>\n",
       "      <td>83</td>\n",
       "      <td>100</td>\n",
       "      <td>100</td>\n",
       "      <td>80</td>\n",
       "      <td>1</td>\n",
       "      <td>False</td>\n",
       "    </tr>\n",
       "    <tr>\n",
       "      <th>3</th>\n",
       "      <td>3</td>\n",
       "      <td>VenusaurMega Venusaur</td>\n",
       "      <td>Grass</td>\n",
       "      <td>Poison</td>\n",
       "      <td>625</td>\n",
       "      <td>80</td>\n",
       "      <td>100</td>\n",
       "      <td>123</td>\n",
       "      <td>122</td>\n",
       "      <td>120</td>\n",
       "      <td>80</td>\n",
       "      <td>1</td>\n",
       "      <td>False</td>\n",
       "    </tr>\n",
       "    <tr>\n",
       "      <th>4</th>\n",
       "      <td>4</td>\n",
       "      <td>Charmander</td>\n",
       "      <td>Fire</td>\n",
       "      <td>NaN</td>\n",
       "      <td>309</td>\n",
       "      <td>39</td>\n",
       "      <td>52</td>\n",
       "      <td>43</td>\n",
       "      <td>60</td>\n",
       "      <td>50</td>\n",
       "      <td>65</td>\n",
       "      <td>1</td>\n",
       "      <td>False</td>\n",
       "    </tr>\n",
       "    <tr>\n",
       "      <th>...</th>\n",
       "      <td>...</td>\n",
       "      <td>...</td>\n",
       "      <td>...</td>\n",
       "      <td>...</td>\n",
       "      <td>...</td>\n",
       "      <td>...</td>\n",
       "      <td>...</td>\n",
       "      <td>...</td>\n",
       "      <td>...</td>\n",
       "      <td>...</td>\n",
       "      <td>...</td>\n",
       "      <td>...</td>\n",
       "      <td>...</td>\n",
       "    </tr>\n",
       "    <tr>\n",
       "      <th>795</th>\n",
       "      <td>719</td>\n",
       "      <td>Diancie</td>\n",
       "      <td>Rock</td>\n",
       "      <td>Fairy</td>\n",
       "      <td>600</td>\n",
       "      <td>50</td>\n",
       "      <td>100</td>\n",
       "      <td>150</td>\n",
       "      <td>100</td>\n",
       "      <td>150</td>\n",
       "      <td>50</td>\n",
       "      <td>6</td>\n",
       "      <td>True</td>\n",
       "    </tr>\n",
       "    <tr>\n",
       "      <th>796</th>\n",
       "      <td>719</td>\n",
       "      <td>DiancieMega Diancie</td>\n",
       "      <td>Rock</td>\n",
       "      <td>Fairy</td>\n",
       "      <td>700</td>\n",
       "      <td>50</td>\n",
       "      <td>160</td>\n",
       "      <td>110</td>\n",
       "      <td>160</td>\n",
       "      <td>110</td>\n",
       "      <td>110</td>\n",
       "      <td>6</td>\n",
       "      <td>True</td>\n",
       "    </tr>\n",
       "    <tr>\n",
       "      <th>797</th>\n",
       "      <td>720</td>\n",
       "      <td>HoopaHoopa Confined</td>\n",
       "      <td>Psychic</td>\n",
       "      <td>Ghost</td>\n",
       "      <td>600</td>\n",
       "      <td>80</td>\n",
       "      <td>110</td>\n",
       "      <td>60</td>\n",
       "      <td>150</td>\n",
       "      <td>130</td>\n",
       "      <td>70</td>\n",
       "      <td>6</td>\n",
       "      <td>True</td>\n",
       "    </tr>\n",
       "    <tr>\n",
       "      <th>798</th>\n",
       "      <td>720</td>\n",
       "      <td>HoopaHoopa Unbound</td>\n",
       "      <td>Psychic</td>\n",
       "      <td>Dark</td>\n",
       "      <td>680</td>\n",
       "      <td>80</td>\n",
       "      <td>160</td>\n",
       "      <td>60</td>\n",
       "      <td>170</td>\n",
       "      <td>130</td>\n",
       "      <td>80</td>\n",
       "      <td>6</td>\n",
       "      <td>True</td>\n",
       "    </tr>\n",
       "    <tr>\n",
       "      <th>799</th>\n",
       "      <td>721</td>\n",
       "      <td>Volcanion</td>\n",
       "      <td>Fire</td>\n",
       "      <td>Water</td>\n",
       "      <td>600</td>\n",
       "      <td>80</td>\n",
       "      <td>110</td>\n",
       "      <td>120</td>\n",
       "      <td>130</td>\n",
       "      <td>90</td>\n",
       "      <td>70</td>\n",
       "      <td>6</td>\n",
       "      <td>True</td>\n",
       "    </tr>\n",
       "  </tbody>\n",
       "</table>\n",
       "<p>800 rows × 13 columns</p>\n",
       "</div>"
      ],
      "text/plain": [
       "       #                   Name   Type 1  Type 2  Total  HP  Attack  Defense  \\\n",
       "0      1              Bulbasaur    Grass  Poison    318  45      49       49   \n",
       "1      2                Ivysaur    Grass  Poison    405  60      62       63   \n",
       "2      3               Venusaur    Grass  Poison    525  80      82       83   \n",
       "3      3  VenusaurMega Venusaur    Grass  Poison    625  80     100      123   \n",
       "4      4             Charmander     Fire     NaN    309  39      52       43   \n",
       "..   ...                    ...      ...     ...    ...  ..     ...      ...   \n",
       "795  719                Diancie     Rock   Fairy    600  50     100      150   \n",
       "796  719    DiancieMega Diancie     Rock   Fairy    700  50     160      110   \n",
       "797  720    HoopaHoopa Confined  Psychic   Ghost    600  80     110       60   \n",
       "798  720     HoopaHoopa Unbound  Psychic    Dark    680  80     160       60   \n",
       "799  721              Volcanion     Fire   Water    600  80     110      120   \n",
       "\n",
       "     Sp. Atk  Sp. Def  Speed  Generation  Legendary  \n",
       "0         65       65     45           1      False  \n",
       "1         80       80     60           1      False  \n",
       "2        100      100     80           1      False  \n",
       "3        122      120     80           1      False  \n",
       "4         60       50     65           1      False  \n",
       "..       ...      ...    ...         ...        ...  \n",
       "795      100      150     50           6       True  \n",
       "796      160      110    110           6       True  \n",
       "797      150      130     70           6       True  \n",
       "798      170      130     80           6       True  \n",
       "799      130       90     70           6       True  \n",
       "\n",
       "[800 rows x 13 columns]"
      ]
     },
     "execution_count": 152,
     "metadata": {},
     "output_type": "execute_result"
    }
   ],
   "source": [
    "pokemon_data = pd.read_csv(r'C:\\Users\\sorig\\Desktop\\pokemon.csv')\n",
    "pokemon_data\n"
   ]
  },
  {
   "cell_type": "code",
   "execution_count": 161,
   "id": "34088413",
   "metadata": {},
   "outputs": [],
   "source": [
    "def t_test_features(s1, s2, features):\n",
    "        results = {}\n",
    "        for feature in features:\n",
    "            results[feature] = st.ttest_ind(s1[feature], s2[feature], equal_var = False)\n",
    "        return results"
   ]
  },
  {
   "cell_type": "code",
   "execution_count": 162,
   "id": "17c8d3a8",
   "metadata": {},
   "outputs": [],
   "source": [
    "legend = pokemon_data.loc[pokemon_data['Legendary'] == True]\n",
    "no_legend = pokemon_data.loc[pokemon_data['Legendary'] == False]"
   ]
  },
  {
   "cell_type": "code",
   "execution_count": 163,
   "id": "a1f807dd",
   "metadata": {},
   "outputs": [
    {
     "data": {
      "text/plain": [
       "['HP', 'Attack', 'Defense', 'Sp. Atk', 'Sp. Def', 'Speed', 'Total']"
      ]
     },
     "execution_count": 163,
     "metadata": {},
     "output_type": "execute_result"
    }
   ],
   "source": [
    "lista = list(['HP', 'Attack', 'Defense', 'Sp. Atk', 'Sp. Def', 'Speed', 'Total'])\n",
    "lista"
   ]
  },
  {
   "cell_type": "code",
   "execution_count": 164,
   "id": "9d4ec7ac",
   "metadata": {
    "scrolled": false
   },
   "outputs": [
    {
     "data": {
      "text/plain": [
       "{'HP': Ttest_indResult(statistic=8.981370483625046, pvalue=1.0026911708035284e-13),\n",
       " 'Attack': Ttest_indResult(statistic=10.438133539322203, pvalue=2.520372449236646e-16),\n",
       " 'Defense': Ttest_indResult(statistic=7.637078164784618, pvalue=4.8269984949193316e-11),\n",
       " 'Sp. Atk': Ttest_indResult(statistic=13.417449984138461, pvalue=1.5514614112239812e-21),\n",
       " 'Sp. Def': Ttest_indResult(statistic=10.015696613114878, pvalue=2.2949327864052826e-15),\n",
       " 'Speed': Ttest_indResult(statistic=11.47504444631443, pvalue=1.049016311882451e-18),\n",
       " 'Total': Ttest_indResult(statistic=25.8335743895517, pvalue=9.357954335957446e-47)}"
      ]
     },
     "execution_count": 164,
     "metadata": {},
     "output_type": "execute_result"
    }
   ],
   "source": [
    "t_test_features(legend, no_legend, lista)"
   ]
  },
  {
   "cell_type": "code",
   "execution_count": null,
   "id": "febbb455",
   "metadata": {},
   "outputs": [],
   "source": [
    "# the p values are low, the HO HO HO must go. The HO is that the sample mean from legendary is not different from the sample mean of non-legendary\n",
    "# the statistic is positive , so the mean of legendary > means non-legendary"
   ]
  },
  {
   "cell_type": "code",
   "execution_count": null,
   "id": "af2a24d2",
   "metadata": {},
   "outputs": [],
   "source": [
    "# conduct t-test for Generation 1 and Generation 2 pokemons"
   ]
  },
  {
   "cell_type": "code",
   "execution_count": 166,
   "id": "3c619ffd",
   "metadata": {},
   "outputs": [],
   "source": [
    "gen1 = pokemon_data.loc[pokemon_data['Generation'] == 1]\n",
    "gen2 = pokemon_data.loc[pokemon_data['Generation'] == 2]"
   ]
  },
  {
   "cell_type": "code",
   "execution_count": 167,
   "id": "0fc7358e",
   "metadata": {},
   "outputs": [
    {
     "data": {
      "text/plain": [
       "{'HP': Ttest_indResult(statistic=-1.4609700002846653, pvalue=0.14551697834219623),\n",
       " 'Attack': Ttest_indResult(statistic=1.1603052805533747, pvalue=0.24721958967217725),\n",
       " 'Defense': Ttest_indResult(statistic=-0.5724173235153119, pvalue=0.5677711011725426),\n",
       " 'Sp. Atk': Ttest_indResult(statistic=1.54608675231508, pvalue=0.12332165977104388),\n",
       " 'Sp. Def': Ttest_indResult(statistic=-1.3203746053318755, pvalue=0.18829872292645752),\n",
       " 'Speed': Ttest_indResult(statistic=3.069594374071931, pvalue=0.00239265937312135),\n",
       " 'Total': Ttest_indResult(statistic=0.579073329450271, pvalue=0.5631377907941676)}"
      ]
     },
     "execution_count": 167,
     "metadata": {},
     "output_type": "execute_result"
    }
   ],
   "source": [
    "t_test_features(gen1, gen2, lista)"
   ]
  },
  {
   "cell_type": "code",
   "execution_count": null,
   "id": "1c5d6aa8",
   "metadata": {},
   "outputs": [],
   "source": [
    "# pvalue bigger than 0.05, we cannot reject the HO"
   ]
  },
  {
   "cell_type": "code",
   "execution_count": null,
   "id": "ac9b9af9",
   "metadata": {},
   "outputs": [],
   "source": [
    "# Compare pokemons who have single type vs those having two types."
   ]
  },
  {
   "cell_type": "code",
   "execution_count": 168,
   "id": "a2c9714f",
   "metadata": {},
   "outputs": [],
   "source": [
    "single = pokemon_data.loc[pokemon_data['Type 2'].isna()]\n",
    "two = pokemon_data.loc[pokemon_data['Type 2'].notna()]"
   ]
  },
  {
   "cell_type": "code",
   "execution_count": 170,
   "id": "7dc6aad9",
   "metadata": {},
   "outputs": [
    {
     "data": {
      "text/plain": [
       "{'HP': Ttest_indResult(statistic=-1.586088850338319, pvalue=0.11314389855379414),\n",
       " 'Attack': Ttest_indResult(statistic=-3.810556219950897, pvalue=0.00014932578145948305),\n",
       " 'Defense': Ttest_indResult(statistic=-5.60979416640793, pvalue=2.7978540411514693e-08),\n",
       " 'Sp. Atk': Ttest_indResult(statistic=-3.828976815384819, pvalue=0.00013876216585667907),\n",
       " 'Sp. Def': Ttest_indResult(statistic=-3.892991138685155, pvalue=0.00010730610934512779),\n",
       " 'Speed': Ttest_indResult(statistic=-2.258014040079978, pvalue=0.02421703281819093),\n",
       " 'Total': Ttest_indResult(statistic=-5.355678438759113, pvalue=1.1157056505229961e-07)}"
      ]
     },
     "execution_count": 170,
     "metadata": {},
     "output_type": "execute_result"
    }
   ],
   "source": [
    "t_test_features(single, two, lista)"
   ]
  },
  {
   "cell_type": "code",
   "execution_count": null,
   "id": "6b50ca16",
   "metadata": {},
   "outputs": [],
   "source": [
    "# For some features the H0 can be rejected(p value < 0.05). For others it seems that the means could(we cannot reject HO, p value>0.05) be the same."
   ]
  },
  {
   "cell_type": "code",
   "execution_count": 171,
   "id": "96b8493b",
   "metadata": {},
   "outputs": [],
   "source": [
    "# Now, we want to compare whether there are significant differences of Attack vs Defense and Sp. Atk vs Sp. Def of all pokemons. Please write your code below."
   ]
  },
  {
   "cell_type": "code",
   "execution_count": 174,
   "id": "a1e9d376",
   "metadata": {},
   "outputs": [
    {
     "name": "stdout",
     "output_type": "stream",
     "text": [
      "TtestResult(statistic=4.325566393330478, pvalue=1.7140303479358558e-05, df=799)\n",
      "TtestResult(statistic=0.853986188453353, pvalue=0.3933685997548122, df=799)\n"
     ]
    }
   ],
   "source": [
    "print(st.ttest_rel(pokemon_data['Attack'], pokemon_data['Defense']))\n",
    "print(st.ttest_rel(pokemon_data['Sp. Atk'], pokemon_data['Sp. Def']))"
   ]
  },
  {
   "cell_type": "code",
   "execution_count": null,
   "id": "79eba20f",
   "metadata": {},
   "outputs": [],
   "source": [
    "# for attack vs defense, the p value is low, HO must go. For sp.atk vs sp.def the p value is bigger than 0.05, we cannot reject HO"
   ]
  },
  {
   "cell_type": "code",
   "execution_count": null,
   "id": "90cb33c8",
   "metadata": {},
   "outputs": [],
   "source": []
  },
  {
   "cell_type": "code",
   "execution_count": null,
   "id": "f3150894",
   "metadata": {},
   "outputs": [],
   "source": [
    "# part2.1"
   ]
  },
  {
   "cell_type": "code",
   "execution_count": null,
   "id": "800cef02",
   "metadata": {},
   "outputs": [],
   "source": [
    "# Extract the unique values of the pokemon types."
   ]
  },
  {
   "cell_type": "code",
   "execution_count": 179,
   "id": "7df8d6f7",
   "metadata": {},
   "outputs": [
    {
     "name": "stderr",
     "output_type": "stream",
     "text": [
      "C:\\Users\\sorig\\AppData\\Local\\Temp\\ipykernel_7404\\2725773145.py:1: FutureWarning: The series.append method is deprecated and will be removed from pandas in a future version. Use pandas.concat instead.\n",
      "  unique_types = list(pokemon_data['Type 1'].append(pokemon_data['Type 2']).unique())\n"
     ]
    },
    {
     "data": {
      "text/plain": [
       "19"
      ]
     },
     "execution_count": 179,
     "metadata": {},
     "output_type": "execute_result"
    }
   ],
   "source": [
    "unique_types = list(pokemon_data['Type 1'].append(pokemon_data['Type 2']).unique())\n",
    "len(unique_types)"
   ]
  },
  {
   "cell_type": "code",
   "execution_count": null,
   "id": "05a077d7",
   "metadata": {},
   "outputs": [],
   "source": [
    "# Second we will create a list named pokemon_totals to contain the Total values of each unique type of pokemons"
   ]
  },
  {
   "cell_type": "code",
   "execution_count": 185,
   "id": "16a09172",
   "metadata": {},
   "outputs": [
    {
     "data": {
      "text/plain": [
       "18"
      ]
     },
     "execution_count": 185,
     "metadata": {},
     "output_type": "execute_result"
    }
   ],
   "source": [
    "pokemon_totals = []\n",
    "\n",
    "for eachtype in unique_types:\n",
    "    if isinstance(eachtype, str):\n",
    "        pokemon_totals.append(pokemon_data.loc[(pokemon_data['Type 1']==eachtype) | (pokemon_data['Type 2']==eachtype)]['Total'])\n",
    "\n",
    "len(pokemon_totals)"
   ]
  },
  {
   "cell_type": "code",
   "execution_count": null,
   "id": "f2f69dd8",
   "metadata": {},
   "outputs": [],
   "source": [
    "# Now we run ANOVA test on pokemon_totals"
   ]
  },
  {
   "cell_type": "code",
   "execution_count": 188,
   "id": "85d3bdc8",
   "metadata": {},
   "outputs": [
    {
     "data": {
      "text/plain": [
       "F_onewayResult(statistic=6.6175382960055344, pvalue=2.6457458815984803e-15)"
      ]
     },
     "execution_count": 188,
     "metadata": {},
     "output_type": "execute_result"
    }
   ],
   "source": [
    "st.f_oneway(*pokemon_totals)"
   ]
  },
  {
   "cell_type": "code",
   "execution_count": null,
   "id": "5b691baa",
   "metadata": {},
   "outputs": [],
   "source": [
    "# pvalue low, Ho must go: Type does matter"
   ]
  },
  {
   "cell_type": "code",
   "execution_count": null,
   "id": "4919d91f",
   "metadata": {},
   "outputs": [],
   "source": []
  }
 ],
 "metadata": {
  "kernelspec": {
   "display_name": "Python 3 (ipykernel)",
   "language": "python",
   "name": "python3"
  },
  "language_info": {
   "codemirror_mode": {
    "name": "ipython",
    "version": 3
   },
   "file_extension": ".py",
   "mimetype": "text/x-python",
   "name": "python",
   "nbconvert_exporter": "python",
   "pygments_lexer": "ipython3",
   "version": "3.11.4"
  }
 },
 "nbformat": 4,
 "nbformat_minor": 5
}
